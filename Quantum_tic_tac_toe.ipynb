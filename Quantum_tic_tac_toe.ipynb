{
  "nbformat": 4,
  "nbformat_minor": 0,
  "metadata": {
    "colab": {
      "name": "Quantum tic-tac-toe.ipynb",
      "provenance": [],
      "include_colab_link": true
    },
    "kernelspec": {
      "display_name": "Python 3",
      "name": "python3"
    },
    "language_info": {
      "name": "python"
    },
    "widgets": {
      "application/vnd.jupyter.widget-state+json": {
        "e50327565dc64280949788dbe4b721b4": {
          "model_module": "@jupyter-widgets/controls",
          "model_name": "ButtonModel",
          "model_module_version": "1.5.0",
          "state": {
            "_view_name": "ButtonView",
            "style": "IPY_MODEL_df5145ceb07845088b3424b48d9561c1",
            "_dom_classes": [],
            "description": "Measure",
            "_model_name": "ButtonModel",
            "button_style": "",
            "_view_module": "@jupyter-widgets/controls",
            "_model_module_version": "1.5.0",
            "tooltip": "",
            "_view_count": null,
            "disabled": false,
            "_view_module_version": "1.5.0",
            "layout": "IPY_MODEL_dee59a4a966c40f68adc00b90646e61e",
            "_model_module": "@jupyter-widgets/controls",
            "icon": ""
          }
        },
        "df5145ceb07845088b3424b48d9561c1": {
          "model_module": "@jupyter-widgets/controls",
          "model_name": "ButtonStyleModel",
          "model_module_version": "1.5.0",
          "state": {
            "_view_name": "StyleView",
            "_model_name": "ButtonStyleModel",
            "_view_module": "@jupyter-widgets/base",
            "_model_module_version": "1.5.0",
            "_view_count": null,
            "button_color": null,
            "font_weight": "",
            "_view_module_version": "1.2.0",
            "_model_module": "@jupyter-widgets/controls"
          }
        },
        "dee59a4a966c40f68adc00b90646e61e": {
          "model_module": "@jupyter-widgets/base",
          "model_name": "LayoutModel",
          "model_module_version": "1.2.0",
          "state": {
            "_view_name": "LayoutView",
            "grid_template_rows": null,
            "right": null,
            "justify_content": null,
            "_view_module": "@jupyter-widgets/base",
            "overflow": null,
            "_model_module_version": "1.2.0",
            "_view_count": null,
            "flex_flow": null,
            "width": "86px",
            "min_width": null,
            "border": null,
            "align_items": null,
            "bottom": null,
            "_model_module": "@jupyter-widgets/base",
            "top": null,
            "grid_column": null,
            "overflow_y": null,
            "overflow_x": null,
            "grid_auto_flow": null,
            "grid_area": null,
            "grid_template_columns": null,
            "flex": null,
            "_model_name": "LayoutModel",
            "justify_items": null,
            "grid_row": null,
            "max_height": null,
            "align_content": null,
            "visibility": null,
            "align_self": null,
            "height": "30px",
            "min_height": null,
            "padding": null,
            "grid_auto_rows": null,
            "grid_gap": null,
            "max_width": null,
            "order": null,
            "_view_module_version": "1.2.0",
            "grid_template_areas": null,
            "object_position": null,
            "object_fit": null,
            "grid_auto_columns": null,
            "margin": null,
            "display": null,
            "left": null
          }
        },
        "c601477a27ac4107ae9bfd1981145999": {
          "model_module": "@jupyter-widgets/controls",
          "model_name": "ButtonModel",
          "model_module_version": "1.5.0",
          "state": {
            "_view_name": "ButtonView",
            "style": "IPY_MODEL_3d3520af0ac24e10b7a75e27e47941a9",
            "_dom_classes": [],
            "description": "Not",
            "_model_name": "ButtonModel",
            "button_style": "",
            "_view_module": "@jupyter-widgets/controls",
            "_model_module_version": "1.5.0",
            "tooltip": "",
            "_view_count": null,
            "disabled": false,
            "_view_module_version": "1.5.0",
            "layout": "IPY_MODEL_136b2cbd49db4f1da86e47802a06439f",
            "_model_module": "@jupyter-widgets/controls",
            "icon": ""
          }
        },
        "3d3520af0ac24e10b7a75e27e47941a9": {
          "model_module": "@jupyter-widgets/controls",
          "model_name": "ButtonStyleModel",
          "model_module_version": "1.5.0",
          "state": {
            "_view_name": "StyleView",
            "_model_name": "ButtonStyleModel",
            "_view_module": "@jupyter-widgets/base",
            "_model_module_version": "1.5.0",
            "_view_count": null,
            "button_color": null,
            "font_weight": "",
            "_view_module_version": "1.2.0",
            "_model_module": "@jupyter-widgets/controls"
          }
        },
        "136b2cbd49db4f1da86e47802a06439f": {
          "model_module": "@jupyter-widgets/base",
          "model_name": "LayoutModel",
          "model_module_version": "1.2.0",
          "state": {
            "_view_name": "LayoutView",
            "grid_template_rows": null,
            "right": null,
            "justify_content": null,
            "_view_module": "@jupyter-widgets/base",
            "overflow": null,
            "_model_module_version": "1.2.0",
            "_view_count": null,
            "flex_flow": null,
            "width": "86px",
            "min_width": null,
            "border": null,
            "align_items": null,
            "bottom": null,
            "_model_module": "@jupyter-widgets/base",
            "top": null,
            "grid_column": null,
            "overflow_y": null,
            "overflow_x": null,
            "grid_auto_flow": null,
            "grid_area": null,
            "grid_template_columns": null,
            "flex": null,
            "_model_name": "LayoutModel",
            "justify_items": null,
            "grid_row": null,
            "max_height": null,
            "align_content": null,
            "visibility": null,
            "align_self": null,
            "height": "30px",
            "min_height": null,
            "padding": null,
            "grid_auto_rows": null,
            "grid_gap": null,
            "max_width": null,
            "order": null,
            "_view_module_version": "1.2.0",
            "grid_template_areas": null,
            "object_position": null,
            "object_fit": null,
            "grid_auto_columns": null,
            "margin": null,
            "display": null,
            "left": null
          }
        },
        "2f553155e1484386aa9356a6c36b2bba": {
          "model_module": "@jupyter-widgets/controls",
          "model_name": "ButtonModel",
          "model_module_version": "1.5.0",
          "state": {
            "_view_name": "ButtonView",
            "style": "IPY_MODEL_f2dd06c4195e4b078bc5ed636526553b",
            "_dom_classes": [],
            "description": "O",
            "_model_name": "ButtonModel",
            "button_style": "",
            "_view_module": "@jupyter-widgets/controls",
            "_model_module_version": "1.5.0",
            "tooltip": "",
            "_view_count": null,
            "disabled": false,
            "_view_module_version": "1.5.0",
            "layout": "IPY_MODEL_5eb12f820247474bacaedc88ec3e900e",
            "_model_module": "@jupyter-widgets/controls",
            "icon": ""
          }
        },
        "f2dd06c4195e4b078bc5ed636526553b": {
          "model_module": "@jupyter-widgets/controls",
          "model_name": "ButtonStyleModel",
          "model_module_version": "1.5.0",
          "state": {
            "_view_name": "StyleView",
            "_model_name": "ButtonStyleModel",
            "_view_module": "@jupyter-widgets/base",
            "_model_module_version": "1.5.0",
            "_view_count": null,
            "button_color": null,
            "font_weight": "",
            "_view_module_version": "1.2.0",
            "_model_module": "@jupyter-widgets/controls"
          }
        },
        "5eb12f820247474bacaedc88ec3e900e": {
          "model_module": "@jupyter-widgets/base",
          "model_name": "LayoutModel",
          "model_module_version": "1.2.0",
          "state": {
            "_view_name": "LayoutView",
            "grid_template_rows": null,
            "right": null,
            "justify_content": null,
            "_view_module": "@jupyter-widgets/base",
            "overflow": null,
            "_model_module_version": "1.2.0",
            "_view_count": null,
            "flex_flow": null,
            "width": "86px",
            "min_width": null,
            "border": null,
            "align_items": null,
            "bottom": null,
            "_model_module": "@jupyter-widgets/base",
            "top": null,
            "grid_column": null,
            "overflow_y": null,
            "overflow_x": null,
            "grid_auto_flow": null,
            "grid_area": null,
            "grid_template_columns": null,
            "flex": null,
            "_model_name": "LayoutModel",
            "justify_items": null,
            "grid_row": null,
            "max_height": null,
            "align_content": null,
            "visibility": null,
            "align_self": null,
            "height": "30px",
            "min_height": null,
            "padding": null,
            "grid_auto_rows": null,
            "grid_gap": null,
            "max_width": null,
            "order": null,
            "_view_module_version": "1.2.0",
            "grid_template_areas": null,
            "object_position": null,
            "object_fit": null,
            "grid_auto_columns": null,
            "margin": null,
            "display": null,
            "left": null
          }
        },
        "30e3a3da62964c8d925ce4e5c9b910a3": {
          "model_module": "@jupyter-widgets/controls",
          "model_name": "ButtonModel",
          "model_module_version": "1.5.0",
          "state": {
            "_view_name": "ButtonView",
            "style": "IPY_MODEL_3655c39a9a6c487f9642a9bbf63758d0",
            "_dom_classes": [],
            "description": "X",
            "_model_name": "ButtonModel",
            "button_style": "",
            "_view_module": "@jupyter-widgets/controls",
            "_model_module_version": "1.5.0",
            "tooltip": "",
            "_view_count": null,
            "disabled": false,
            "_view_module_version": "1.5.0",
            "layout": "IPY_MODEL_f4a165b1b919462abe1f50970cc8bc91",
            "_model_module": "@jupyter-widgets/controls",
            "icon": ""
          }
        },
        "3655c39a9a6c487f9642a9bbf63758d0": {
          "model_module": "@jupyter-widgets/controls",
          "model_name": "ButtonStyleModel",
          "model_module_version": "1.5.0",
          "state": {
            "_view_name": "StyleView",
            "_model_name": "ButtonStyleModel",
            "_view_module": "@jupyter-widgets/base",
            "_model_module_version": "1.5.0",
            "_view_count": null,
            "button_color": null,
            "font_weight": "",
            "_view_module_version": "1.2.0",
            "_model_module": "@jupyter-widgets/controls"
          }
        },
        "f4a165b1b919462abe1f50970cc8bc91": {
          "model_module": "@jupyter-widgets/base",
          "model_name": "LayoutModel",
          "model_module_version": "1.2.0",
          "state": {
            "_view_name": "LayoutView",
            "grid_template_rows": null,
            "right": null,
            "justify_content": null,
            "_view_module": "@jupyter-widgets/base",
            "overflow": null,
            "_model_module_version": "1.2.0",
            "_view_count": null,
            "flex_flow": null,
            "width": "86px",
            "min_width": null,
            "border": null,
            "align_items": null,
            "bottom": null,
            "_model_module": "@jupyter-widgets/base",
            "top": null,
            "grid_column": null,
            "overflow_y": null,
            "overflow_x": null,
            "grid_auto_flow": null,
            "grid_area": null,
            "grid_template_columns": null,
            "flex": null,
            "_model_name": "LayoutModel",
            "justify_items": null,
            "grid_row": null,
            "max_height": null,
            "align_content": null,
            "visibility": null,
            "align_self": null,
            "height": "30px",
            "min_height": null,
            "padding": null,
            "grid_auto_rows": null,
            "grid_gap": null,
            "max_width": null,
            "order": null,
            "_view_module_version": "1.2.0",
            "grid_template_areas": null,
            "object_position": null,
            "object_fit": null,
            "grid_auto_columns": null,
            "margin": null,
            "display": null,
            "left": null
          }
        },
        "347f6c8bd40d4d1084e06ca66bb08de2": {
          "model_module": "@jupyter-widgets/controls",
          "model_name": "ButtonModel",
          "model_module_version": "1.5.0",
          "state": {
            "_view_name": "ButtonView",
            "style": "IPY_MODEL_ea7366c6b34f41e396ecf66cefca12db",
            "_dom_classes": [],
            "description": "SWAP",
            "_model_name": "ButtonModel",
            "button_style": "",
            "_view_module": "@jupyter-widgets/controls",
            "_model_module_version": "1.5.0",
            "tooltip": "",
            "_view_count": null,
            "disabled": false,
            "_view_module_version": "1.5.0",
            "layout": "IPY_MODEL_5bea671a9dd94bc1b5be46fc66126bb5",
            "_model_module": "@jupyter-widgets/controls",
            "icon": ""
          }
        },
        "ea7366c6b34f41e396ecf66cefca12db": {
          "model_module": "@jupyter-widgets/controls",
          "model_name": "ButtonStyleModel",
          "model_module_version": "1.5.0",
          "state": {
            "_view_name": "StyleView",
            "_model_name": "ButtonStyleModel",
            "_view_module": "@jupyter-widgets/base",
            "_model_module_version": "1.5.0",
            "_view_count": null,
            "button_color": null,
            "font_weight": "",
            "_view_module_version": "1.2.0",
            "_model_module": "@jupyter-widgets/controls"
          }
        },
        "5bea671a9dd94bc1b5be46fc66126bb5": {
          "model_module": "@jupyter-widgets/base",
          "model_name": "LayoutModel",
          "model_module_version": "1.2.0",
          "state": {
            "_view_name": "LayoutView",
            "grid_template_rows": null,
            "right": null,
            "justify_content": null,
            "_view_module": "@jupyter-widgets/base",
            "overflow": null,
            "_model_module_version": "1.2.0",
            "_view_count": null,
            "flex_flow": null,
            "width": "86px",
            "min_width": null,
            "border": null,
            "align_items": null,
            "bottom": null,
            "_model_module": "@jupyter-widgets/base",
            "top": null,
            "grid_column": null,
            "overflow_y": null,
            "overflow_x": null,
            "grid_auto_flow": null,
            "grid_area": null,
            "grid_template_columns": null,
            "flex": null,
            "_model_name": "LayoutModel",
            "justify_items": null,
            "grid_row": null,
            "max_height": null,
            "align_content": null,
            "visibility": null,
            "align_self": null,
            "height": "30px",
            "min_height": null,
            "padding": null,
            "grid_auto_rows": null,
            "grid_gap": null,
            "max_width": null,
            "order": null,
            "_view_module_version": "1.2.0",
            "grid_template_areas": null,
            "object_position": null,
            "object_fit": null,
            "grid_auto_columns": null,
            "margin": null,
            "display": null,
            "left": null
          }
        },
        "714a4e7995e042ea9ea9a5719ecde328": {
          "model_module": "@jupyter-widgets/controls",
          "model_name": "ButtonModel",
          "model_module_version": "1.5.0",
          "state": {
            "_view_name": "ButtonView",
            "style": "IPY_MODEL_2a6657d486784ba9a6dc85b97827931e",
            "_dom_classes": [],
            "description": "0",
            "_model_name": "ButtonModel",
            "button_style": "",
            "_view_module": "@jupyter-widgets/controls",
            "_model_module_version": "1.5.0",
            "tooltip": "",
            "_view_count": null,
            "disabled": false,
            "_view_module_version": "1.5.0",
            "layout": "IPY_MODEL_305df28fc75147eb8422f3e32ae4fc14",
            "_model_module": "@jupyter-widgets/controls",
            "icon": ""
          }
        },
        "2a6657d486784ba9a6dc85b97827931e": {
          "model_module": "@jupyter-widgets/controls",
          "model_name": "ButtonStyleModel",
          "model_module_version": "1.5.0",
          "state": {
            "_view_name": "StyleView",
            "_model_name": "ButtonStyleModel",
            "_view_module": "@jupyter-widgets/base",
            "_model_module_version": "1.5.0",
            "_view_count": null,
            "button_color": null,
            "font_weight": "",
            "_view_module_version": "1.2.0",
            "_model_module": "@jupyter-widgets/controls"
          }
        },
        "305df28fc75147eb8422f3e32ae4fc14": {
          "model_module": "@jupyter-widgets/base",
          "model_name": "LayoutModel",
          "model_module_version": "1.2.0",
          "state": {
            "_view_name": "LayoutView",
            "grid_template_rows": null,
            "right": null,
            "justify_content": null,
            "_view_module": "@jupyter-widgets/base",
            "overflow": null,
            "_model_module_version": "1.2.0",
            "_view_count": null,
            "flex_flow": null,
            "width": null,
            "min_width": null,
            "border": null,
            "align_items": null,
            "bottom": null,
            "_model_module": "@jupyter-widgets/base",
            "top": null,
            "grid_column": null,
            "overflow_y": null,
            "overflow_x": null,
            "grid_auto_flow": null,
            "grid_area": null,
            "grid_template_columns": null,
            "flex": null,
            "_model_name": "LayoutModel",
            "justify_items": null,
            "grid_row": null,
            "max_height": null,
            "align_content": null,
            "visibility": null,
            "align_self": null,
            "height": null,
            "min_height": null,
            "padding": null,
            "grid_auto_rows": null,
            "grid_gap": null,
            "max_width": null,
            "order": null,
            "_view_module_version": "1.2.0",
            "grid_template_areas": null,
            "object_position": null,
            "object_fit": null,
            "grid_auto_columns": null,
            "margin": null,
            "display": null,
            "left": null
          }
        },
        "7d66ffcc80b5420f933356e38e053408": {
          "model_module": "@jupyter-widgets/controls",
          "model_name": "ButtonModel",
          "model_module_version": "1.5.0",
          "state": {
            "_view_name": "ButtonView",
            "style": "IPY_MODEL_36589bc0b6ca4329a00297146139c8ae",
            "_dom_classes": [],
            "description": "1",
            "_model_name": "ButtonModel",
            "button_style": "",
            "_view_module": "@jupyter-widgets/controls",
            "_model_module_version": "1.5.0",
            "tooltip": "",
            "_view_count": null,
            "disabled": false,
            "_view_module_version": "1.5.0",
            "layout": "IPY_MODEL_e18891c7120c439bb7faf6f77d1b000a",
            "_model_module": "@jupyter-widgets/controls",
            "icon": ""
          }
        },
        "36589bc0b6ca4329a00297146139c8ae": {
          "model_module": "@jupyter-widgets/controls",
          "model_name": "ButtonStyleModel",
          "model_module_version": "1.5.0",
          "state": {
            "_view_name": "StyleView",
            "_model_name": "ButtonStyleModel",
            "_view_module": "@jupyter-widgets/base",
            "_model_module_version": "1.5.0",
            "_view_count": null,
            "button_color": null,
            "font_weight": "",
            "_view_module_version": "1.2.0",
            "_model_module": "@jupyter-widgets/controls"
          }
        },
        "e18891c7120c439bb7faf6f77d1b000a": {
          "model_module": "@jupyter-widgets/base",
          "model_name": "LayoutModel",
          "model_module_version": "1.2.0",
          "state": {
            "_view_name": "LayoutView",
            "grid_template_rows": null,
            "right": null,
            "justify_content": null,
            "_view_module": "@jupyter-widgets/base",
            "overflow": null,
            "_model_module_version": "1.2.0",
            "_view_count": null,
            "flex_flow": null,
            "width": null,
            "min_width": null,
            "border": null,
            "align_items": null,
            "bottom": null,
            "_model_module": "@jupyter-widgets/base",
            "top": null,
            "grid_column": null,
            "overflow_y": null,
            "overflow_x": null,
            "grid_auto_flow": null,
            "grid_area": null,
            "grid_template_columns": null,
            "flex": null,
            "_model_name": "LayoutModel",
            "justify_items": null,
            "grid_row": null,
            "max_height": null,
            "align_content": null,
            "visibility": null,
            "align_self": null,
            "height": null,
            "min_height": null,
            "padding": null,
            "grid_auto_rows": null,
            "grid_gap": null,
            "max_width": null,
            "order": null,
            "_view_module_version": "1.2.0",
            "grid_template_areas": null,
            "object_position": null,
            "object_fit": null,
            "grid_auto_columns": null,
            "margin": null,
            "display": null,
            "left": null
          }
        },
        "ccc8396b01e14be5b576875f10606289": {
          "model_module": "@jupyter-widgets/controls",
          "model_name": "ButtonModel",
          "model_module_version": "1.5.0",
          "state": {
            "_view_name": "ButtonView",
            "style": "IPY_MODEL_2a71153347bd44818171fc15da3074ab",
            "_dom_classes": [],
            "description": "2",
            "_model_name": "ButtonModel",
            "button_style": "",
            "_view_module": "@jupyter-widgets/controls",
            "_model_module_version": "1.5.0",
            "tooltip": "",
            "_view_count": null,
            "disabled": false,
            "_view_module_version": "1.5.0",
            "layout": "IPY_MODEL_9188d5cf491c41a1b241c94efb60ff78",
            "_model_module": "@jupyter-widgets/controls",
            "icon": ""
          }
        },
        "2a71153347bd44818171fc15da3074ab": {
          "model_module": "@jupyter-widgets/controls",
          "model_name": "ButtonStyleModel",
          "model_module_version": "1.5.0",
          "state": {
            "_view_name": "StyleView",
            "_model_name": "ButtonStyleModel",
            "_view_module": "@jupyter-widgets/base",
            "_model_module_version": "1.5.0",
            "_view_count": null,
            "button_color": null,
            "font_weight": "",
            "_view_module_version": "1.2.0",
            "_model_module": "@jupyter-widgets/controls"
          }
        },
        "9188d5cf491c41a1b241c94efb60ff78": {
          "model_module": "@jupyter-widgets/base",
          "model_name": "LayoutModel",
          "model_module_version": "1.2.0",
          "state": {
            "_view_name": "LayoutView",
            "grid_template_rows": null,
            "right": null,
            "justify_content": null,
            "_view_module": "@jupyter-widgets/base",
            "overflow": null,
            "_model_module_version": "1.2.0",
            "_view_count": null,
            "flex_flow": null,
            "width": null,
            "min_width": null,
            "border": null,
            "align_items": null,
            "bottom": null,
            "_model_module": "@jupyter-widgets/base",
            "top": null,
            "grid_column": null,
            "overflow_y": null,
            "overflow_x": null,
            "grid_auto_flow": null,
            "grid_area": null,
            "grid_template_columns": null,
            "flex": null,
            "_model_name": "LayoutModel",
            "justify_items": null,
            "grid_row": null,
            "max_height": null,
            "align_content": null,
            "visibility": null,
            "align_self": null,
            "height": null,
            "min_height": null,
            "padding": null,
            "grid_auto_rows": null,
            "grid_gap": null,
            "max_width": null,
            "order": null,
            "_view_module_version": "1.2.0",
            "grid_template_areas": null,
            "object_position": null,
            "object_fit": null,
            "grid_auto_columns": null,
            "margin": null,
            "display": null,
            "left": null
          }
        },
        "c1f51ef2f6d948ea8c7c6c6615102d87": {
          "model_module": "@jupyter-widgets/controls",
          "model_name": "ButtonModel",
          "model_module_version": "1.5.0",
          "state": {
            "_view_name": "ButtonView",
            "style": "IPY_MODEL_3f58c4c1090a4e22a711f33234fcf1dc",
            "_dom_classes": [],
            "description": "3",
            "_model_name": "ButtonModel",
            "button_style": "",
            "_view_module": "@jupyter-widgets/controls",
            "_model_module_version": "1.5.0",
            "tooltip": "",
            "_view_count": null,
            "disabled": false,
            "_view_module_version": "1.5.0",
            "layout": "IPY_MODEL_b7140c7131984174be56ddd063ad4e1f",
            "_model_module": "@jupyter-widgets/controls",
            "icon": ""
          }
        },
        "3f58c4c1090a4e22a711f33234fcf1dc": {
          "model_module": "@jupyter-widgets/controls",
          "model_name": "ButtonStyleModel",
          "model_module_version": "1.5.0",
          "state": {
            "_view_name": "StyleView",
            "_model_name": "ButtonStyleModel",
            "_view_module": "@jupyter-widgets/base",
            "_model_module_version": "1.5.0",
            "_view_count": null,
            "button_color": null,
            "font_weight": "",
            "_view_module_version": "1.2.0",
            "_model_module": "@jupyter-widgets/controls"
          }
        },
        "b7140c7131984174be56ddd063ad4e1f": {
          "model_module": "@jupyter-widgets/base",
          "model_name": "LayoutModel",
          "model_module_version": "1.2.0",
          "state": {
            "_view_name": "LayoutView",
            "grid_template_rows": null,
            "right": null,
            "justify_content": null,
            "_view_module": "@jupyter-widgets/base",
            "overflow": null,
            "_model_module_version": "1.2.0",
            "_view_count": null,
            "flex_flow": null,
            "width": null,
            "min_width": null,
            "border": null,
            "align_items": null,
            "bottom": null,
            "_model_module": "@jupyter-widgets/base",
            "top": null,
            "grid_column": null,
            "overflow_y": null,
            "overflow_x": null,
            "grid_auto_flow": null,
            "grid_area": null,
            "grid_template_columns": null,
            "flex": null,
            "_model_name": "LayoutModel",
            "justify_items": null,
            "grid_row": null,
            "max_height": null,
            "align_content": null,
            "visibility": null,
            "align_self": null,
            "height": null,
            "min_height": null,
            "padding": null,
            "grid_auto_rows": null,
            "grid_gap": null,
            "max_width": null,
            "order": null,
            "_view_module_version": "1.2.0",
            "grid_template_areas": null,
            "object_position": null,
            "object_fit": null,
            "grid_auto_columns": null,
            "margin": null,
            "display": null,
            "left": null
          }
        },
        "c51264b770914d81a90141da8aef70d5": {
          "model_module": "@jupyter-widgets/controls",
          "model_name": "ButtonModel",
          "model_module_version": "1.5.0",
          "state": {
            "_view_name": "ButtonView",
            "style": "IPY_MODEL_6fde84dd76084d06a4f4120f89c28652",
            "_dom_classes": [],
            "description": "4",
            "_model_name": "ButtonModel",
            "button_style": "",
            "_view_module": "@jupyter-widgets/controls",
            "_model_module_version": "1.5.0",
            "tooltip": "",
            "_view_count": null,
            "disabled": false,
            "_view_module_version": "1.5.0",
            "layout": "IPY_MODEL_4cddff42b3e4481488bfe1ecc7e85bec",
            "_model_module": "@jupyter-widgets/controls",
            "icon": ""
          }
        },
        "6fde84dd76084d06a4f4120f89c28652": {
          "model_module": "@jupyter-widgets/controls",
          "model_name": "ButtonStyleModel",
          "model_module_version": "1.5.0",
          "state": {
            "_view_name": "StyleView",
            "_model_name": "ButtonStyleModel",
            "_view_module": "@jupyter-widgets/base",
            "_model_module_version": "1.5.0",
            "_view_count": null,
            "button_color": null,
            "font_weight": "",
            "_view_module_version": "1.2.0",
            "_model_module": "@jupyter-widgets/controls"
          }
        },
        "4cddff42b3e4481488bfe1ecc7e85bec": {
          "model_module": "@jupyter-widgets/base",
          "model_name": "LayoutModel",
          "model_module_version": "1.2.0",
          "state": {
            "_view_name": "LayoutView",
            "grid_template_rows": null,
            "right": null,
            "justify_content": null,
            "_view_module": "@jupyter-widgets/base",
            "overflow": null,
            "_model_module_version": "1.2.0",
            "_view_count": null,
            "flex_flow": null,
            "width": null,
            "min_width": null,
            "border": null,
            "align_items": null,
            "bottom": null,
            "_model_module": "@jupyter-widgets/base",
            "top": null,
            "grid_column": null,
            "overflow_y": null,
            "overflow_x": null,
            "grid_auto_flow": null,
            "grid_area": null,
            "grid_template_columns": null,
            "flex": null,
            "_model_name": "LayoutModel",
            "justify_items": null,
            "grid_row": null,
            "max_height": null,
            "align_content": null,
            "visibility": null,
            "align_self": null,
            "height": null,
            "min_height": null,
            "padding": null,
            "grid_auto_rows": null,
            "grid_gap": null,
            "max_width": null,
            "order": null,
            "_view_module_version": "1.2.0",
            "grid_template_areas": null,
            "object_position": null,
            "object_fit": null,
            "grid_auto_columns": null,
            "margin": null,
            "display": null,
            "left": null
          }
        },
        "09b67be87c87412ea0fe3b2ee4f2d254": {
          "model_module": "@jupyter-widgets/controls",
          "model_name": "ButtonModel",
          "model_module_version": "1.5.0",
          "state": {
            "_view_name": "ButtonView",
            "style": "IPY_MODEL_147056cec1f64577946a519344918ba5",
            "_dom_classes": [],
            "description": "5",
            "_model_name": "ButtonModel",
            "button_style": "",
            "_view_module": "@jupyter-widgets/controls",
            "_model_module_version": "1.5.0",
            "tooltip": "",
            "_view_count": null,
            "disabled": false,
            "_view_module_version": "1.5.0",
            "layout": "IPY_MODEL_ca9a364b623140a9991365019828854f",
            "_model_module": "@jupyter-widgets/controls",
            "icon": ""
          }
        },
        "147056cec1f64577946a519344918ba5": {
          "model_module": "@jupyter-widgets/controls",
          "model_name": "ButtonStyleModel",
          "model_module_version": "1.5.0",
          "state": {
            "_view_name": "StyleView",
            "_model_name": "ButtonStyleModel",
            "_view_module": "@jupyter-widgets/base",
            "_model_module_version": "1.5.0",
            "_view_count": null,
            "button_color": null,
            "font_weight": "",
            "_view_module_version": "1.2.0",
            "_model_module": "@jupyter-widgets/controls"
          }
        },
        "ca9a364b623140a9991365019828854f": {
          "model_module": "@jupyter-widgets/base",
          "model_name": "LayoutModel",
          "model_module_version": "1.2.0",
          "state": {
            "_view_name": "LayoutView",
            "grid_template_rows": null,
            "right": null,
            "justify_content": null,
            "_view_module": "@jupyter-widgets/base",
            "overflow": null,
            "_model_module_version": "1.2.0",
            "_view_count": null,
            "flex_flow": null,
            "width": null,
            "min_width": null,
            "border": null,
            "align_items": null,
            "bottom": null,
            "_model_module": "@jupyter-widgets/base",
            "top": null,
            "grid_column": null,
            "overflow_y": null,
            "overflow_x": null,
            "grid_auto_flow": null,
            "grid_area": null,
            "grid_template_columns": null,
            "flex": null,
            "_model_name": "LayoutModel",
            "justify_items": null,
            "grid_row": null,
            "max_height": null,
            "align_content": null,
            "visibility": null,
            "align_self": null,
            "height": null,
            "min_height": null,
            "padding": null,
            "grid_auto_rows": null,
            "grid_gap": null,
            "max_width": null,
            "order": null,
            "_view_module_version": "1.2.0",
            "grid_template_areas": null,
            "object_position": null,
            "object_fit": null,
            "grid_auto_columns": null,
            "margin": null,
            "display": null,
            "left": null
          }
        },
        "d0510e58acea47539db4f088707a0d35": {
          "model_module": "@jupyter-widgets/controls",
          "model_name": "ButtonModel",
          "model_module_version": "1.5.0",
          "state": {
            "_view_name": "ButtonView",
            "style": "IPY_MODEL_bd1b4cc81d4c488dab293fe4f827259f",
            "_dom_classes": [],
            "description": "6",
            "_model_name": "ButtonModel",
            "button_style": "",
            "_view_module": "@jupyter-widgets/controls",
            "_model_module_version": "1.5.0",
            "tooltip": "",
            "_view_count": null,
            "disabled": false,
            "_view_module_version": "1.5.0",
            "layout": "IPY_MODEL_74eae57a3f89419ead1894ccaa05c45d",
            "_model_module": "@jupyter-widgets/controls",
            "icon": ""
          }
        },
        "bd1b4cc81d4c488dab293fe4f827259f": {
          "model_module": "@jupyter-widgets/controls",
          "model_name": "ButtonStyleModel",
          "model_module_version": "1.5.0",
          "state": {
            "_view_name": "StyleView",
            "_model_name": "ButtonStyleModel",
            "_view_module": "@jupyter-widgets/base",
            "_model_module_version": "1.5.0",
            "_view_count": null,
            "button_color": null,
            "font_weight": "",
            "_view_module_version": "1.2.0",
            "_model_module": "@jupyter-widgets/controls"
          }
        },
        "74eae57a3f89419ead1894ccaa05c45d": {
          "model_module": "@jupyter-widgets/base",
          "model_name": "LayoutModel",
          "model_module_version": "1.2.0",
          "state": {
            "_view_name": "LayoutView",
            "grid_template_rows": null,
            "right": null,
            "justify_content": null,
            "_view_module": "@jupyter-widgets/base",
            "overflow": null,
            "_model_module_version": "1.2.0",
            "_view_count": null,
            "flex_flow": null,
            "width": null,
            "min_width": null,
            "border": null,
            "align_items": null,
            "bottom": null,
            "_model_module": "@jupyter-widgets/base",
            "top": null,
            "grid_column": null,
            "overflow_y": null,
            "overflow_x": null,
            "grid_auto_flow": null,
            "grid_area": null,
            "grid_template_columns": null,
            "flex": null,
            "_model_name": "LayoutModel",
            "justify_items": null,
            "grid_row": null,
            "max_height": null,
            "align_content": null,
            "visibility": null,
            "align_self": null,
            "height": null,
            "min_height": null,
            "padding": null,
            "grid_auto_rows": null,
            "grid_gap": null,
            "max_width": null,
            "order": null,
            "_view_module_version": "1.2.0",
            "grid_template_areas": null,
            "object_position": null,
            "object_fit": null,
            "grid_auto_columns": null,
            "margin": null,
            "display": null,
            "left": null
          }
        },
        "72e528e0d18e4fcaa897e5b8b0cbc31f": {
          "model_module": "@jupyter-widgets/controls",
          "model_name": "ButtonModel",
          "model_module_version": "1.5.0",
          "state": {
            "_view_name": "ButtonView",
            "style": "IPY_MODEL_0b6acc37f0a94f29a8b2ef7499bbb3ba",
            "_dom_classes": [],
            "description": "7",
            "_model_name": "ButtonModel",
            "button_style": "",
            "_view_module": "@jupyter-widgets/controls",
            "_model_module_version": "1.5.0",
            "tooltip": "",
            "_view_count": null,
            "disabled": false,
            "_view_module_version": "1.5.0",
            "layout": "IPY_MODEL_b23a9790337a4a6e8368a0e6377eab12",
            "_model_module": "@jupyter-widgets/controls",
            "icon": ""
          }
        },
        "0b6acc37f0a94f29a8b2ef7499bbb3ba": {
          "model_module": "@jupyter-widgets/controls",
          "model_name": "ButtonStyleModel",
          "model_module_version": "1.5.0",
          "state": {
            "_view_name": "StyleView",
            "_model_name": "ButtonStyleModel",
            "_view_module": "@jupyter-widgets/base",
            "_model_module_version": "1.5.0",
            "_view_count": null,
            "button_color": null,
            "font_weight": "",
            "_view_module_version": "1.2.0",
            "_model_module": "@jupyter-widgets/controls"
          }
        },
        "b23a9790337a4a6e8368a0e6377eab12": {
          "model_module": "@jupyter-widgets/base",
          "model_name": "LayoutModel",
          "model_module_version": "1.2.0",
          "state": {
            "_view_name": "LayoutView",
            "grid_template_rows": null,
            "right": null,
            "justify_content": null,
            "_view_module": "@jupyter-widgets/base",
            "overflow": null,
            "_model_module_version": "1.2.0",
            "_view_count": null,
            "flex_flow": null,
            "width": null,
            "min_width": null,
            "border": null,
            "align_items": null,
            "bottom": null,
            "_model_module": "@jupyter-widgets/base",
            "top": null,
            "grid_column": null,
            "overflow_y": null,
            "overflow_x": null,
            "grid_auto_flow": null,
            "grid_area": null,
            "grid_template_columns": null,
            "flex": null,
            "_model_name": "LayoutModel",
            "justify_items": null,
            "grid_row": null,
            "max_height": null,
            "align_content": null,
            "visibility": null,
            "align_self": null,
            "height": null,
            "min_height": null,
            "padding": null,
            "grid_auto_rows": null,
            "grid_gap": null,
            "max_width": null,
            "order": null,
            "_view_module_version": "1.2.0",
            "grid_template_areas": null,
            "object_position": null,
            "object_fit": null,
            "grid_auto_columns": null,
            "margin": null,
            "display": null,
            "left": null
          }
        },
        "7486048e195d40e6b380cd33f162fc14": {
          "model_module": "@jupyter-widgets/controls",
          "model_name": "ButtonModel",
          "model_module_version": "1.5.0",
          "state": {
            "_view_name": "ButtonView",
            "style": "IPY_MODEL_de90369f8637445b9bd3a6bf928ad288",
            "_dom_classes": [],
            "description": "8",
            "_model_name": "ButtonModel",
            "button_style": "",
            "_view_module": "@jupyter-widgets/controls",
            "_model_module_version": "1.5.0",
            "tooltip": "",
            "_view_count": null,
            "disabled": false,
            "_view_module_version": "1.5.0",
            "layout": "IPY_MODEL_d8a13b46d6494f2d94d1687ed564ba62",
            "_model_module": "@jupyter-widgets/controls",
            "icon": ""
          }
        },
        "de90369f8637445b9bd3a6bf928ad288": {
          "model_module": "@jupyter-widgets/controls",
          "model_name": "ButtonStyleModel",
          "model_module_version": "1.5.0",
          "state": {
            "_view_name": "StyleView",
            "_model_name": "ButtonStyleModel",
            "_view_module": "@jupyter-widgets/base",
            "_model_module_version": "1.5.0",
            "_view_count": null,
            "button_color": null,
            "font_weight": "",
            "_view_module_version": "1.2.0",
            "_model_module": "@jupyter-widgets/controls"
          }
        },
        "d8a13b46d6494f2d94d1687ed564ba62": {
          "model_module": "@jupyter-widgets/base",
          "model_name": "LayoutModel",
          "model_module_version": "1.2.0",
          "state": {
            "_view_name": "LayoutView",
            "grid_template_rows": null,
            "right": null,
            "justify_content": null,
            "_view_module": "@jupyter-widgets/base",
            "overflow": null,
            "_model_module_version": "1.2.0",
            "_view_count": null,
            "flex_flow": null,
            "width": null,
            "min_width": null,
            "border": null,
            "align_items": null,
            "bottom": null,
            "_model_module": "@jupyter-widgets/base",
            "top": null,
            "grid_column": null,
            "overflow_y": null,
            "overflow_x": null,
            "grid_auto_flow": null,
            "grid_area": null,
            "grid_template_columns": null,
            "flex": null,
            "_model_name": "LayoutModel",
            "justify_items": null,
            "grid_row": null,
            "max_height": null,
            "align_content": null,
            "visibility": null,
            "align_self": null,
            "height": null,
            "min_height": null,
            "padding": null,
            "grid_auto_rows": null,
            "grid_gap": null,
            "max_width": null,
            "order": null,
            "_view_module_version": "1.2.0",
            "grid_template_areas": null,
            "object_position": null,
            "object_fit": null,
            "grid_auto_columns": null,
            "margin": null,
            "display": null,
            "left": null
          }
        },
        "d62b72cbc6404ae28369cdf697fa9345": {
          "model_module": "@jupyter-widgets/controls",
          "model_name": "ButtonModel",
          "model_module_version": "1.5.0",
          "state": {
            "_view_name": "ButtonView",
            "style": "IPY_MODEL_59caa831e6104bd0be8d7553ff991f3b",
            "_dom_classes": [],
            "description": "Replay",
            "_model_name": "ButtonModel",
            "button_style": "",
            "_view_module": "@jupyter-widgets/controls",
            "_model_module_version": "1.5.0",
            "tooltip": "",
            "_view_count": null,
            "disabled": false,
            "_view_module_version": "1.5.0",
            "layout": "IPY_MODEL_30226ca9af2e483a9c15f864c38298f2",
            "_model_module": "@jupyter-widgets/controls",
            "icon": ""
          }
        },
        "59caa831e6104bd0be8d7553ff991f3b": {
          "model_module": "@jupyter-widgets/controls",
          "model_name": "ButtonStyleModel",
          "model_module_version": "1.5.0",
          "state": {
            "_view_name": "StyleView",
            "_model_name": "ButtonStyleModel",
            "_view_module": "@jupyter-widgets/base",
            "_model_module_version": "1.5.0",
            "_view_count": null,
            "button_color": null,
            "font_weight": "",
            "_view_module_version": "1.2.0",
            "_model_module": "@jupyter-widgets/controls"
          }
        },
        "30226ca9af2e483a9c15f864c38298f2": {
          "model_module": "@jupyter-widgets/base",
          "model_name": "LayoutModel",
          "model_module_version": "1.2.0",
          "state": {
            "_view_name": "LayoutView",
            "grid_template_rows": null,
            "right": null,
            "justify_content": null,
            "_view_module": "@jupyter-widgets/base",
            "overflow": null,
            "_model_module_version": "1.2.0",
            "_view_count": null,
            "flex_flow": null,
            "width": null,
            "min_width": null,
            "border": null,
            "align_items": null,
            "bottom": null,
            "_model_module": "@jupyter-widgets/base",
            "top": null,
            "grid_column": null,
            "overflow_y": null,
            "overflow_x": null,
            "grid_auto_flow": null,
            "grid_area": null,
            "grid_template_columns": null,
            "flex": null,
            "_model_name": "LayoutModel",
            "justify_items": null,
            "grid_row": null,
            "max_height": null,
            "align_content": null,
            "visibility": null,
            "align_self": null,
            "height": null,
            "min_height": null,
            "padding": null,
            "grid_auto_rows": null,
            "grid_gap": null,
            "max_width": null,
            "order": null,
            "_view_module_version": "1.2.0",
            "grid_template_areas": null,
            "object_position": null,
            "object_fit": null,
            "grid_auto_columns": null,
            "margin": null,
            "display": null,
            "left": null
          }
        }
      }
    }
  },
  "cells": [
    {
      "cell_type": "markdown",
      "metadata": {
        "id": "view-in-github",
        "colab_type": "text"
      },
      "source": [
        "<a href=\"https://colab.research.google.com/github/kylewtho/boardgames-project/blob/main/Quantum_tic_tac_toe.ipynb\" target=\"_parent\"><img src=\"https://colab.research.google.com/assets/colab-badge.svg\" alt=\"Open In Colab\"/></a>"
      ]
    },
    {
      "cell_type": "markdown",
      "metadata": {
        "id": "DnbgsNM__Z01"
      },
      "source": [
        "Set up the game logic"
      ]
    },
    {
      "cell_type": "code",
      "metadata": {
        "id": "B1RWWNCjPDvO"
      },
      "source": [
        "!pip install qiskit --quiet\n",
        "!pip install pylatexenc --quiet\n",
        "\n",
        "from qiskit import *\n",
        "from qiskit.visualization import plot_histogram\n",
        "from google.colab import widgets\n",
        "from __future__ import print_function\n",
        "from ipywidgets import interact, interactive, fixed, interact_manual, Button, Layout\n",
        "import ipywidgets\n",
        "import pandas as pd\n",
        "import math\n",
        "import numpy as np\n",
        "import random\n",
        "from IPython.display import clear_output"
      ],
      "execution_count": null,
      "outputs": []
    },
    {
      "cell_type": "code",
      "metadata": {
        "id": "CsJXnRQBP7WQ"
      },
      "source": [
        "class Board:\n",
        "    def __init__(self):\n",
        "        self.qc = QuantumCircuit(game_size, game_size)\n",
        "        self.function = ''\n",
        "        self.target = -1\n",
        "        self.tab = []\n",
        "        self.winsX = 0\n",
        "        self.winsO = 0\n",
        "        self.steps = 3 #maximum number of moves \n",
        "        print(\"Moves remaining: \" + str(self.steps))   \n",
        "\n",
        "        for idx in range(0, game_size):\n",
        "            self.tab.append({'default':str(idx), 'player':' '})\n",
        "            self.qc.reset(idx)\n",
        "            self.qc.h(idx)\n",
        "        self.qc.barrier()\n",
        "\n",
        "    def make_move(self, cell):\n",
        "        if self.function == 'Not':\n",
        "            self.qc.x(cell)\n",
        "            self.tab[int(cell)]['player'] += 'N - '  \n",
        "        elif self.function == 'O':\n",
        "            self.qc.ry(1*np.pi/2, cell)\n",
        "            self.tab[int(cell)]['player'] += \"O - \"\n",
        "        elif self.function == 'X':\n",
        "            self.qc.ry(1*-np.pi/2, cell)\n",
        "            self.tab[int(cell)]['player'] += \"X - \" \n",
        "        elif self.function == 'SWAP' and self.target != cell:\n",
        "            if self.target == cell:\n",
        "                self.target = -1\n",
        "            else:\n",
        "                self.qc.swap(cell, self.target)\n",
        "                self.tab[int(cell)]['player'] += \"S - \" \n",
        "                self.tab[int(self.target)]['player'] += \"S - \"\n",
        "        self.steps -= 1\n",
        "        print(\"Moves remaining: \" + str(self.steps))\n",
        "                          \n",
        "    def results(self):\n",
        "        display(self.qc.draw('mpl'))\n",
        "        self.qc = QuantumCircuit(game_size, game_size)\n",
        "\n",
        "    def display(self):\n",
        "        display(self.qc.draw('mpl'))\n",
        "        \n",
        "    def measure(self):\n",
        "        self.qc.barrier()\n",
        "        for i in range(0,game_size):\n",
        "            self.qc.measure(i, i)\n",
        "        \n",
        "        job = qiskit.execute(self.qc, backend, shots=1, memory=True)\n",
        "        output = job.result().get_memory()[0]\n",
        "        \n",
        "        for i in range(0,game_size):\n",
        "            if output[game_size-1-i] == '0':\n",
        "                self.tab[i]['player'] = 'X'\n",
        "            else:\n",
        "                self.tab[i]['player'] = 'O'\n",
        "        self.winsX = self.countWinners('X')\n",
        "        self.winsO = self.countWinners('O')\n",
        "\n",
        "    def countWinners(self, player):\n",
        "        if game_size == 9:\n",
        "          winners = ((0,1,2),(3,4,5),(6,7,8),(0,3,6),(1,4,7),(2,5,8),(0,4,8),(2,4,6))\n",
        "        else:\n",
        "          winners = ((0,1),(2,3),(0,2),(1,3),(0,3),(1,2))\n",
        "        wins = 0\n",
        "        for i in range(len(winners)):\n",
        "            won = True\n",
        "            for j in range(len(winners[0])):\n",
        "                if not self.tab[winners[i][j]]['player'] == player:\n",
        "                    won = False\n",
        "            if won:\n",
        "                wins = wins + 1\n",
        "        return wins\n",
        "    \n",
        "    def new(self):\n",
        "        self.tab.clear()\n",
        "        for idx in range(0,game_size):\n",
        "           self.tab.append({'default':str(idx), 'player':''})\n",
        "           self.qc.reset(idx)\n",
        "           self.qc.h(idx)\n",
        "        self.qc.barrier()\n"
      ],
      "execution_count": null,
      "outputs": []
    },
    {
      "cell_type": "code",
      "metadata": {
        "id": "SGX8WF3wQC8V"
      },
      "source": [
        "class Game:\n",
        "    def __init__(self):\n",
        "        self.selecting = False\n",
        "        self.board = Board()\n",
        "        self.boardbutton_list = []\n",
        "        for i in range(0,game_size):\n",
        "            button = Button(description=str(i))\n",
        "            button.on_click(self.handle_game)\n",
        "            self.boardbutton_list.append(button)\n",
        "        self.funcbutton_list = []\n",
        "        self.newButton('Measure')\n",
        "        self.newButton('Not')\n",
        "        self.newButton('O')\n",
        "        self.newButton('X')\n",
        "        self.newButton('SWAP')\n",
        "        self.printmenu()\n",
        "        self.printBoard()\n",
        "\n",
        "    def newButton(self, name):\n",
        "        function = Button(description=name, layout=Layout(width='86px', height='30px'))\n",
        "        function.on_click(self.handle_game)\n",
        "        self.funcbutton_list.append(function)\n",
        "\n",
        "    def handle_game(self, b):\n",
        "        try:\n",
        "            if b.description == 'Measure':\n",
        "                clear_output()\n",
        "                self.replay()\n",
        "                self.board.measure()\n",
        "                self.scoreboard()\n",
        "                self.printBoard() \n",
        "                self.board.results()\n",
        "                \n",
        "            if b.description == 'Replay':\n",
        "                clear_output()\n",
        "                self.board.new()\n",
        "                self.printmenu()\n",
        "                self.printBoard()\n",
        "                            \n",
        "            if int(b.description) >= 0:\n",
        "                if self.selecting:\n",
        "                    self.board.target = int(b.description)\n",
        "                else:\n",
        "                    clear_output()\n",
        "                    self.printmenu()\n",
        "                    self.board.make_move(int(b.description))\n",
        "                    self.printBoard()\n",
        "                    self.board.display()\n",
        "            self.selecting = False\n",
        "        except ValueError:\n",
        "            self.board.function = b.description\n",
        "            self.selecting = False\n",
        "            if self.board.function == 'SWAP':\n",
        "                self.selecting = True\n",
        "        if self.board.steps == 0:\n",
        "            clear_output()\n",
        "            self.replay()\n",
        "            self.board.measure()\n",
        "            self.scoreboard()\n",
        "            self.printBoard() \n",
        "            self.board.results()\n",
        "            self.board.steps = 3 #reset maximum numbers of moves\n",
        "\n",
        "    def printmenu(self):\n",
        "        grid = widgets.Grid(1, 5)\n",
        "        for (row, col) in grid:\n",
        "            display(self.funcbutton_list[col])\n",
        "\n",
        "    def scoreboard(self):\n",
        "        print(\"X wins: \" + str(self.board.winsX) + \"    O wins: \" + str(self.board.winsO))\n",
        "\n",
        "    def replay(self):\n",
        "        rep = Button(description=\"Replay\")\n",
        "        rep.on_click(self.handle_game)\n",
        "        display(rep)\n",
        "\n",
        "    def printBoard(self):\n",
        "        grid = widgets.Grid(1, int(np.sqrt(game_size)), header_row=True, header_column=True)\n",
        "        for row in range(int(np.sqrt(game_size))):\n",
        "              for (useless, col) in grid:\n",
        "                  print(\"\\n\"+self.board.tab[col + row * int(np.sqrt(game_size))]['player']+\"\\n\")\n",
        "                  display(self.boardbutton_list[col + row * int(np.sqrt(game_size))])"
      ],
      "execution_count": null,
      "outputs": []
    },
    {
      "cell_type": "code",
      "metadata": {
        "id": "sf42GkLD0cLf"
      },
      "source": [
        "backend = Aer.get_backend('aer_simulator')\n",
        "\n",
        "game_size = 9"
      ],
      "execution_count": null,
      "outputs": []
    },
    {
      "cell_type": "code",
      "metadata": {
        "colab": {
          "base_uri": "https://localhost:8080/",
          "height": 308,
          "referenced_widgets": [
            "e50327565dc64280949788dbe4b721b4",
            "df5145ceb07845088b3424b48d9561c1",
            "dee59a4a966c40f68adc00b90646e61e",
            "c601477a27ac4107ae9bfd1981145999",
            "3d3520af0ac24e10b7a75e27e47941a9",
            "136b2cbd49db4f1da86e47802a06439f",
            "2f553155e1484386aa9356a6c36b2bba",
            "f2dd06c4195e4b078bc5ed636526553b",
            "5eb12f820247474bacaedc88ec3e900e",
            "30e3a3da62964c8d925ce4e5c9b910a3",
            "3655c39a9a6c487f9642a9bbf63758d0",
            "f4a165b1b919462abe1f50970cc8bc91",
            "347f6c8bd40d4d1084e06ca66bb08de2",
            "ea7366c6b34f41e396ecf66cefca12db",
            "5bea671a9dd94bc1b5be46fc66126bb5",
            "714a4e7995e042ea9ea9a5719ecde328",
            "2a6657d486784ba9a6dc85b97827931e",
            "305df28fc75147eb8422f3e32ae4fc14",
            "7d66ffcc80b5420f933356e38e053408",
            "36589bc0b6ca4329a00297146139c8ae",
            "e18891c7120c439bb7faf6f77d1b000a",
            "ccc8396b01e14be5b576875f10606289",
            "2a71153347bd44818171fc15da3074ab",
            "9188d5cf491c41a1b241c94efb60ff78",
            "c1f51ef2f6d948ea8c7c6c6615102d87",
            "3f58c4c1090a4e22a711f33234fcf1dc",
            "b7140c7131984174be56ddd063ad4e1f",
            "c51264b770914d81a90141da8aef70d5",
            "6fde84dd76084d06a4f4120f89c28652",
            "4cddff42b3e4481488bfe1ecc7e85bec",
            "09b67be87c87412ea0fe3b2ee4f2d254",
            "147056cec1f64577946a519344918ba5",
            "ca9a364b623140a9991365019828854f",
            "d0510e58acea47539db4f088707a0d35",
            "bd1b4cc81d4c488dab293fe4f827259f",
            "74eae57a3f89419ead1894ccaa05c45d",
            "72e528e0d18e4fcaa897e5b8b0cbc31f",
            "0b6acc37f0a94f29a8b2ef7499bbb3ba",
            "b23a9790337a4a6e8368a0e6377eab12",
            "7486048e195d40e6b380cd33f162fc14",
            "de90369f8637445b9bd3a6bf928ad288",
            "d8a13b46d6494f2d94d1687ed564ba62",
            "d62b72cbc6404ae28369cdf697fa9345",
            "59caa831e6104bd0be8d7553ff991f3b",
            "30226ca9af2e483a9c15f864c38298f2"
          ]
        },
        "id": "wVokzg_s0vZa",
        "outputId": "3673ded2-e544-49d8-91a6-e978464262e4"
      },
      "source": [
        "game = Game()"
      ],
      "execution_count": null,
      "outputs": [
        {
          "output_type": "display_data",
          "data": {
            "text/html": [
              "<style>\n",
              "       table#id710, #id710 > tbody > tr > th, #id710 > tbody > tr > td {\n",
              "         border: 1px solid lightgray;\n",
              "         border-collapse:collapse;\n",
              "         \n",
              "        }</style>"
            ],
            "text/plain": [
              "<IPython.core.display.HTML object>"
            ]
          },
          "metadata": {}
        },
        {
          "output_type": "display_data",
          "data": {
            "text/html": [
              "<table id=id710><tr><td id=id710-0-0></td><td id=id710-0-1></td><td id=id710-0-2></td><td id=id710-0-3></td><td id=id710-0-4></td></tr></table>"
            ],
            "text/plain": [
              "<IPython.core.display.HTML object>"
            ]
          },
          "metadata": {}
        },
        {
          "output_type": "display_data",
          "data": {
            "application/javascript": [
              "window[\"0c1bec46-278b-11ec-8803-0242ac1c0002\"] = google.colab.output.getActiveOutputArea();\n",
              "//# sourceURL=js_79f4519ceb"
            ],
            "text/plain": [
              "<IPython.core.display.Javascript object>"
            ]
          },
          "metadata": {}
        },
        {
          "output_type": "display_data",
          "data": {
            "application/javascript": [
              "window[\"0c1c3c50-278b-11ec-8803-0242ac1c0002\"] = document.querySelector(\"#id710-0-0\");\n",
              "//# sourceURL=js_69716afb46"
            ],
            "text/plain": [
              "<IPython.core.display.Javascript object>"
            ]
          },
          "metadata": {}
        },
        {
          "output_type": "display_data",
          "data": {
            "application/javascript": [
              "window[\"0c1c9740-278b-11ec-8803-0242ac1c0002\"] = google.colab.output.setActiveOutputArea(window[\"0c1c3c50-278b-11ec-8803-0242ac1c0002\"]);\n",
              "//# sourceURL=js_a077edbb13"
            ],
            "text/plain": [
              "<IPython.core.display.Javascript object>"
            ]
          },
          "metadata": {}
        },
        {
          "output_type": "display_data",
          "data": {
            "application/vnd.jupyter.widget-view+json": {
              "model_id": "e50327565dc64280949788dbe4b721b4",
              "version_minor": 0,
              "version_major": 2
            },
            "text/plain": [
              "Button(description='Measure', layout=Layout(height='30px', width='86px'), style=ButtonStyle())"
            ]
          },
          "metadata": {}
        },
        {
          "output_type": "display_data",
          "data": {
            "application/javascript": [
              "window[\"0c1e8226-278b-11ec-8803-0242ac1c0002\"] = google.colab.output.setActiveOutputArea(window[\"0c1bec46-278b-11ec-8803-0242ac1c0002\"]);\n",
              "//# sourceURL=js_046a021827"
            ],
            "text/plain": [
              "<IPython.core.display.Javascript object>"
            ]
          },
          "metadata": {}
        },
        {
          "output_type": "display_data",
          "data": {
            "application/javascript": [
              "window[\"0c20c3b0-278b-11ec-8803-0242ac1c0002\"] = google.colab.output.getActiveOutputArea();\n",
              "//# sourceURL=js_612cc6416c"
            ],
            "text/plain": [
              "<IPython.core.display.Javascript object>"
            ]
          },
          "metadata": {}
        },
        {
          "output_type": "display_data",
          "data": {
            "application/javascript": [
              "window[\"0c212062-278b-11ec-8803-0242ac1c0002\"] = document.querySelector(\"#id710-0-1\");\n",
              "//# sourceURL=js_b32cd2c326"
            ],
            "text/plain": [
              "<IPython.core.display.Javascript object>"
            ]
          },
          "metadata": {}
        },
        {
          "output_type": "display_data",
          "data": {
            "application/javascript": [
              "window[\"0c2173be-278b-11ec-8803-0242ac1c0002\"] = google.colab.output.setActiveOutputArea(window[\"0c212062-278b-11ec-8803-0242ac1c0002\"]);\n",
              "//# sourceURL=js_73851ec680"
            ],
            "text/plain": [
              "<IPython.core.display.Javascript object>"
            ]
          },
          "metadata": {}
        },
        {
          "output_type": "display_data",
          "data": {
            "application/vnd.jupyter.widget-view+json": {
              "model_id": "c601477a27ac4107ae9bfd1981145999",
              "version_minor": 0,
              "version_major": 2
            },
            "text/plain": [
              "Button(description='Not', layout=Layout(height='30px', width='86px'), style=ButtonStyle())"
            ]
          },
          "metadata": {}
        },
        {
          "output_type": "display_data",
          "data": {
            "application/javascript": [
              "window[\"0c234cb6-278b-11ec-8803-0242ac1c0002\"] = google.colab.output.setActiveOutputArea(window[\"0c20c3b0-278b-11ec-8803-0242ac1c0002\"]);\n",
              "//# sourceURL=js_26da51690f"
            ],
            "text/plain": [
              "<IPython.core.display.Javascript object>"
            ]
          },
          "metadata": {}
        },
        {
          "output_type": "display_data",
          "data": {
            "application/javascript": [
              "window[\"0c2578a6-278b-11ec-8803-0242ac1c0002\"] = google.colab.output.getActiveOutputArea();\n",
              "//# sourceURL=js_85040c6feb"
            ],
            "text/plain": [
              "<IPython.core.display.Javascript object>"
            ]
          },
          "metadata": {}
        },
        {
          "output_type": "display_data",
          "data": {
            "application/javascript": [
              "window[\"0c25d65c-278b-11ec-8803-0242ac1c0002\"] = document.querySelector(\"#id710-0-2\");\n",
              "//# sourceURL=js_168bcceac8"
            ],
            "text/plain": [
              "<IPython.core.display.Javascript object>"
            ]
          },
          "metadata": {}
        },
        {
          "output_type": "display_data",
          "data": {
            "application/javascript": [
              "window[\"0c262850-278b-11ec-8803-0242ac1c0002\"] = google.colab.output.setActiveOutputArea(window[\"0c25d65c-278b-11ec-8803-0242ac1c0002\"]);\n",
              "//# sourceURL=js_83056d7d02"
            ],
            "text/plain": [
              "<IPython.core.display.Javascript object>"
            ]
          },
          "metadata": {}
        },
        {
          "output_type": "display_data",
          "data": {
            "application/vnd.jupyter.widget-view+json": {
              "model_id": "2f553155e1484386aa9356a6c36b2bba",
              "version_minor": 0,
              "version_major": 2
            },
            "text/plain": [
              "Button(description='O', layout=Layout(height='30px', width='86px'), style=ButtonStyle())"
            ]
          },
          "metadata": {}
        },
        {
          "output_type": "display_data",
          "data": {
            "application/javascript": [
              "window[\"0c27fdf6-278b-11ec-8803-0242ac1c0002\"] = google.colab.output.setActiveOutputArea(window[\"0c2578a6-278b-11ec-8803-0242ac1c0002\"]);\n",
              "//# sourceURL=js_97dd7c1749"
            ],
            "text/plain": [
              "<IPython.core.display.Javascript object>"
            ]
          },
          "metadata": {}
        },
        {
          "output_type": "display_data",
          "data": {
            "application/javascript": [
              "window[\"0c2a237e-278b-11ec-8803-0242ac1c0002\"] = google.colab.output.getActiveOutputArea();\n",
              "//# sourceURL=js_daf26f265e"
            ],
            "text/plain": [
              "<IPython.core.display.Javascript object>"
            ]
          },
          "metadata": {}
        },
        {
          "output_type": "display_data",
          "data": {
            "application/javascript": [
              "window[\"0c2a8008-278b-11ec-8803-0242ac1c0002\"] = document.querySelector(\"#id710-0-3\");\n",
              "//# sourceURL=js_ddc9b83d08"
            ],
            "text/plain": [
              "<IPython.core.display.Javascript object>"
            ]
          },
          "metadata": {}
        },
        {
          "output_type": "display_data",
          "data": {
            "application/javascript": [
              "window[\"0c2ad1f2-278b-11ec-8803-0242ac1c0002\"] = google.colab.output.setActiveOutputArea(window[\"0c2a8008-278b-11ec-8803-0242ac1c0002\"]);\n",
              "//# sourceURL=js_4a38f86c35"
            ],
            "text/plain": [
              "<IPython.core.display.Javascript object>"
            ]
          },
          "metadata": {}
        },
        {
          "output_type": "display_data",
          "data": {
            "application/vnd.jupyter.widget-view+json": {
              "model_id": "30e3a3da62964c8d925ce4e5c9b910a3",
              "version_minor": 0,
              "version_major": 2
            },
            "text/plain": [
              "Button(description='X', layout=Layout(height='30px', width='86px'), style=ButtonStyle())"
            ]
          },
          "metadata": {}
        },
        {
          "output_type": "display_data",
          "data": {
            "application/javascript": [
              "window[\"0c2e9422-278b-11ec-8803-0242ac1c0002\"] = google.colab.output.setActiveOutputArea(window[\"0c2a237e-278b-11ec-8803-0242ac1c0002\"]);\n",
              "//# sourceURL=js_dd5b190872"
            ],
            "text/plain": [
              "<IPython.core.display.Javascript object>"
            ]
          },
          "metadata": {}
        },
        {
          "output_type": "display_data",
          "data": {
            "application/javascript": [
              "window[\"0c3193de-278b-11ec-8803-0242ac1c0002\"] = google.colab.output.getActiveOutputArea();\n",
              "//# sourceURL=js_dd22c0cdaa"
            ],
            "text/plain": [
              "<IPython.core.display.Javascript object>"
            ]
          },
          "metadata": {}
        },
        {
          "output_type": "display_data",
          "data": {
            "application/javascript": [
              "window[\"0c31ff86-278b-11ec-8803-0242ac1c0002\"] = document.querySelector(\"#id710-0-4\");\n",
              "//# sourceURL=js_1093599747"
            ],
            "text/plain": [
              "<IPython.core.display.Javascript object>"
            ]
          },
          "metadata": {}
        },
        {
          "output_type": "display_data",
          "data": {
            "application/javascript": [
              "window[\"0c325ae4-278b-11ec-8803-0242ac1c0002\"] = google.colab.output.setActiveOutputArea(window[\"0c31ff86-278b-11ec-8803-0242ac1c0002\"]);\n",
              "//# sourceURL=js_497f553f72"
            ],
            "text/plain": [
              "<IPython.core.display.Javascript object>"
            ]
          },
          "metadata": {}
        },
        {
          "output_type": "display_data",
          "data": {
            "application/vnd.jupyter.widget-view+json": {
              "model_id": "347f6c8bd40d4d1084e06ca66bb08de2",
              "version_minor": 0,
              "version_major": 2
            },
            "text/plain": [
              "Button(description='SWAP', layout=Layout(height='30px', width='86px'), style=ButtonStyle())"
            ]
          },
          "metadata": {}
        },
        {
          "output_type": "display_data",
          "data": {
            "application/javascript": [
              "window[\"0c34796e-278b-11ec-8803-0242ac1c0002\"] = google.colab.output.setActiveOutputArea(window[\"0c3193de-278b-11ec-8803-0242ac1c0002\"]);\n",
              "//# sourceURL=js_611b123e48"
            ],
            "text/plain": [
              "<IPython.core.display.Javascript object>"
            ]
          },
          "metadata": {}
        },
        {
          "output_type": "display_data",
          "data": {
            "text/html": [
              "<style>\n",
              "       table#id712, #id712 > tbody > tr > th, #id712 > tbody > tr > td {\n",
              "         border: 1px solid lightgray;\n",
              "         border-collapse:collapse;\n",
              "         \n",
              "        }</style>"
            ],
            "text/plain": [
              "<IPython.core.display.HTML object>"
            ]
          },
          "metadata": {}
        },
        {
          "output_type": "display_data",
          "data": {
            "text/html": [
              "<table id=id712><tr><th id=id712-0-0></th><th id=id712-0-1></th><th id=id712-0-2></th></tr></table>"
            ],
            "text/plain": [
              "<IPython.core.display.HTML object>"
            ]
          },
          "metadata": {}
        },
        {
          "output_type": "display_data",
          "data": {
            "application/javascript": [
              "window[\"0c3873f2-278b-11ec-8803-0242ac1c0002\"] = google.colab.output.getActiveOutputArea();\n",
              "//# sourceURL=js_30b8ea6f70"
            ],
            "text/plain": [
              "<IPython.core.display.Javascript object>"
            ]
          },
          "metadata": {}
        },
        {
          "output_type": "display_data",
          "data": {
            "application/javascript": [
              "window[\"0c38d7f2-278b-11ec-8803-0242ac1c0002\"] = document.querySelector(\"#id712-0-0\");\n",
              "//# sourceURL=js_6de5b73025"
            ],
            "text/plain": [
              "<IPython.core.display.Javascript object>"
            ]
          },
          "metadata": {}
        },
        {
          "output_type": "display_data",
          "data": {
            "application/javascript": [
              "window[\"0c392f2c-278b-11ec-8803-0242ac1c0002\"] = google.colab.output.setActiveOutputArea(window[\"0c38d7f2-278b-11ec-8803-0242ac1c0002\"]);\n",
              "//# sourceURL=js_db08d6e29d"
            ],
            "text/plain": [
              "<IPython.core.display.Javascript object>"
            ]
          },
          "metadata": {}
        },
        {
          "output_type": "stream",
          "name": "stdout",
          "text": [
            "\n",
            "\n",
            "\n"
          ]
        },
        {
          "output_type": "display_data",
          "data": {
            "application/vnd.jupyter.widget-view+json": {
              "model_id": "714a4e7995e042ea9ea9a5719ecde328",
              "version_minor": 0,
              "version_major": 2
            },
            "text/plain": [
              "Button(description='0', style=ButtonStyle())"
            ]
          },
          "metadata": {}
        },
        {
          "output_type": "display_data",
          "data": {
            "application/javascript": [
              "window[\"0c3b2e76-278b-11ec-8803-0242ac1c0002\"] = google.colab.output.setActiveOutputArea(window[\"0c3873f2-278b-11ec-8803-0242ac1c0002\"]);\n",
              "//# sourceURL=js_b61cd54dc8"
            ],
            "text/plain": [
              "<IPython.core.display.Javascript object>"
            ]
          },
          "metadata": {}
        },
        {
          "output_type": "display_data",
          "data": {
            "application/javascript": [
              "window[\"0c3d6c18-278b-11ec-8803-0242ac1c0002\"] = google.colab.output.getActiveOutputArea();\n",
              "//# sourceURL=js_47889bdec2"
            ],
            "text/plain": [
              "<IPython.core.display.Javascript object>"
            ]
          },
          "metadata": {}
        },
        {
          "output_type": "display_data",
          "data": {
            "application/javascript": [
              "window[\"0c3dd0ae-278b-11ec-8803-0242ac1c0002\"] = document.querySelector(\"#id712-0-1\");\n",
              "//# sourceURL=js_99a1897234"
            ],
            "text/plain": [
              "<IPython.core.display.Javascript object>"
            ]
          },
          "metadata": {}
        },
        {
          "output_type": "display_data",
          "data": {
            "application/javascript": [
              "window[\"0c3e5cea-278b-11ec-8803-0242ac1c0002\"] = google.colab.output.setActiveOutputArea(window[\"0c3dd0ae-278b-11ec-8803-0242ac1c0002\"]);\n",
              "//# sourceURL=js_ea4930e4e7"
            ],
            "text/plain": [
              "<IPython.core.display.Javascript object>"
            ]
          },
          "metadata": {}
        },
        {
          "output_type": "stream",
          "name": "stdout",
          "text": [
            "\n",
            "\n",
            "\n"
          ]
        },
        {
          "output_type": "display_data",
          "data": {
            "application/vnd.jupyter.widget-view+json": {
              "model_id": "7d66ffcc80b5420f933356e38e053408",
              "version_minor": 0,
              "version_major": 2
            },
            "text/plain": [
              "Button(description='1', style=ButtonStyle())"
            ]
          },
          "metadata": {}
        },
        {
          "output_type": "display_data",
          "data": {
            "application/javascript": [
              "window[\"0c4075a2-278b-11ec-8803-0242ac1c0002\"] = google.colab.output.setActiveOutputArea(window[\"0c3d6c18-278b-11ec-8803-0242ac1c0002\"]);\n",
              "//# sourceURL=js_c49363d66d"
            ],
            "text/plain": [
              "<IPython.core.display.Javascript object>"
            ]
          },
          "metadata": {}
        },
        {
          "output_type": "display_data",
          "data": {
            "application/javascript": [
              "window[\"0c430ff6-278b-11ec-8803-0242ac1c0002\"] = google.colab.output.getActiveOutputArea();\n",
              "//# sourceURL=js_229b2da6ed"
            ],
            "text/plain": [
              "<IPython.core.display.Javascript object>"
            ]
          },
          "metadata": {}
        },
        {
          "output_type": "display_data",
          "data": {
            "application/javascript": [
              "window[\"0c438256-278b-11ec-8803-0242ac1c0002\"] = document.querySelector(\"#id712-0-2\");\n",
              "//# sourceURL=js_d78a017f29"
            ],
            "text/plain": [
              "<IPython.core.display.Javascript object>"
            ]
          },
          "metadata": {}
        },
        {
          "output_type": "display_data",
          "data": {
            "application/javascript": [
              "window[\"0c43ebd8-278b-11ec-8803-0242ac1c0002\"] = google.colab.output.setActiveOutputArea(window[\"0c438256-278b-11ec-8803-0242ac1c0002\"]);\n",
              "//# sourceURL=js_2850be4546"
            ],
            "text/plain": [
              "<IPython.core.display.Javascript object>"
            ]
          },
          "metadata": {}
        },
        {
          "output_type": "stream",
          "name": "stdout",
          "text": [
            "\n",
            "\n",
            "\n"
          ]
        },
        {
          "output_type": "display_data",
          "data": {
            "application/vnd.jupyter.widget-view+json": {
              "model_id": "ccc8396b01e14be5b576875f10606289",
              "version_minor": 0,
              "version_major": 2
            },
            "text/plain": [
              "Button(description='2', style=ButtonStyle())"
            ]
          },
          "metadata": {}
        },
        {
          "output_type": "display_data",
          "data": {
            "application/javascript": [
              "window[\"0c45df4c-278b-11ec-8803-0242ac1c0002\"] = google.colab.output.setActiveOutputArea(window[\"0c430ff6-278b-11ec-8803-0242ac1c0002\"]);\n",
              "//# sourceURL=js_ccb3a63242"
            ],
            "text/plain": [
              "<IPython.core.display.Javascript object>"
            ]
          },
          "metadata": {}
        },
        {
          "output_type": "display_data",
          "data": {
            "application/javascript": [
              "window[\"0c47fd68-278b-11ec-8803-0242ac1c0002\"] = google.colab.output.getActiveOutputArea();\n",
              "//# sourceURL=js_adffb41d2c"
            ],
            "text/plain": [
              "<IPython.core.display.Javascript object>"
            ]
          },
          "metadata": {}
        },
        {
          "output_type": "display_data",
          "data": {
            "application/javascript": [
              "window[\"0c4861f4-278b-11ec-8803-0242ac1c0002\"] = document.querySelector(\"#id712-0-0\");\n",
              "//# sourceURL=js_6865f3b71f"
            ],
            "text/plain": [
              "<IPython.core.display.Javascript object>"
            ]
          },
          "metadata": {}
        },
        {
          "output_type": "display_data",
          "data": {
            "application/javascript": [
              "window[\"0c48b6f4-278b-11ec-8803-0242ac1c0002\"] = google.colab.output.setActiveOutputArea(window[\"0c4861f4-278b-11ec-8803-0242ac1c0002\"]);\n",
              "//# sourceURL=js_9bea2a50cc"
            ],
            "text/plain": [
              "<IPython.core.display.Javascript object>"
            ]
          },
          "metadata": {}
        },
        {
          "output_type": "stream",
          "name": "stdout",
          "text": [
            "\n",
            "\n",
            "\n"
          ]
        },
        {
          "output_type": "display_data",
          "data": {
            "application/vnd.jupyter.widget-view+json": {
              "model_id": "c1f51ef2f6d948ea8c7c6c6615102d87",
              "version_minor": 0,
              "version_major": 2
            },
            "text/plain": [
              "Button(description='3', style=ButtonStyle())"
            ]
          },
          "metadata": {}
        },
        {
          "output_type": "display_data",
          "data": {
            "application/javascript": [
              "window[\"0c4a9e24-278b-11ec-8803-0242ac1c0002\"] = google.colab.output.setActiveOutputArea(window[\"0c47fd68-278b-11ec-8803-0242ac1c0002\"]);\n",
              "//# sourceURL=js_70788cb494"
            ],
            "text/plain": [
              "<IPython.core.display.Javascript object>"
            ]
          },
          "metadata": {}
        },
        {
          "output_type": "display_data",
          "data": {
            "application/javascript": [
              "window[\"0c4cd4be-278b-11ec-8803-0242ac1c0002\"] = google.colab.output.getActiveOutputArea();\n",
              "//# sourceURL=js_7692bd7331"
            ],
            "text/plain": [
              "<IPython.core.display.Javascript object>"
            ]
          },
          "metadata": {}
        },
        {
          "output_type": "display_data",
          "data": {
            "application/javascript": [
              "window[\"0c4d4070-278b-11ec-8803-0242ac1c0002\"] = document.querySelector(\"#id712-0-1\");\n",
              "//# sourceURL=js_ae71fd70ba"
            ],
            "text/plain": [
              "<IPython.core.display.Javascript object>"
            ]
          },
          "metadata": {}
        },
        {
          "output_type": "display_data",
          "data": {
            "application/javascript": [
              "window[\"0c4da150-278b-11ec-8803-0242ac1c0002\"] = google.colab.output.setActiveOutputArea(window[\"0c4d4070-278b-11ec-8803-0242ac1c0002\"]);\n",
              "//# sourceURL=js_9bc3a202b2"
            ],
            "text/plain": [
              "<IPython.core.display.Javascript object>"
            ]
          },
          "metadata": {}
        },
        {
          "output_type": "stream",
          "name": "stdout",
          "text": [
            "\n",
            "\n",
            "\n"
          ]
        },
        {
          "output_type": "display_data",
          "data": {
            "application/vnd.jupyter.widget-view+json": {
              "model_id": "c51264b770914d81a90141da8aef70d5",
              "version_minor": 0,
              "version_major": 2
            },
            "text/plain": [
              "Button(description='4', style=ButtonStyle())"
            ]
          },
          "metadata": {}
        },
        {
          "output_type": "display_data",
          "data": {
            "application/javascript": [
              "window[\"0c4f928a-278b-11ec-8803-0242ac1c0002\"] = google.colab.output.setActiveOutputArea(window[\"0c4cd4be-278b-11ec-8803-0242ac1c0002\"]);\n",
              "//# sourceURL=js_ee492b1eee"
            ],
            "text/plain": [
              "<IPython.core.display.Javascript object>"
            ]
          },
          "metadata": {}
        },
        {
          "output_type": "display_data",
          "data": {
            "application/javascript": [
              "window[\"0c51a5e8-278b-11ec-8803-0242ac1c0002\"] = google.colab.output.getActiveOutputArea();\n",
              "//# sourceURL=js_e4ab9f4245"
            ],
            "text/plain": [
              "<IPython.core.display.Javascript object>"
            ]
          },
          "metadata": {}
        },
        {
          "output_type": "display_data",
          "data": {
            "application/javascript": [
              "window[\"0c520b00-278b-11ec-8803-0242ac1c0002\"] = document.querySelector(\"#id712-0-2\");\n",
              "//# sourceURL=js_489bb4943f"
            ],
            "text/plain": [
              "<IPython.core.display.Javascript object>"
            ]
          },
          "metadata": {}
        },
        {
          "output_type": "display_data",
          "data": {
            "application/javascript": [
              "window[\"0c526dca-278b-11ec-8803-0242ac1c0002\"] = google.colab.output.setActiveOutputArea(window[\"0c520b00-278b-11ec-8803-0242ac1c0002\"]);\n",
              "//# sourceURL=js_91dbcf978f"
            ],
            "text/plain": [
              "<IPython.core.display.Javascript object>"
            ]
          },
          "metadata": {}
        },
        {
          "output_type": "stream",
          "name": "stdout",
          "text": [
            "\n",
            "\n",
            "\n"
          ]
        },
        {
          "output_type": "display_data",
          "data": {
            "application/vnd.jupyter.widget-view+json": {
              "model_id": "09b67be87c87412ea0fe3b2ee4f2d254",
              "version_minor": 0,
              "version_major": 2
            },
            "text/plain": [
              "Button(description='5', style=ButtonStyle())"
            ]
          },
          "metadata": {}
        },
        {
          "output_type": "display_data",
          "data": {
            "application/javascript": [
              "window[\"0c54388a-278b-11ec-8803-0242ac1c0002\"] = google.colab.output.setActiveOutputArea(window[\"0c51a5e8-278b-11ec-8803-0242ac1c0002\"]);\n",
              "//# sourceURL=js_d532fa7acd"
            ],
            "text/plain": [
              "<IPython.core.display.Javascript object>"
            ]
          },
          "metadata": {}
        },
        {
          "output_type": "display_data",
          "data": {
            "application/javascript": [
              "window[\"0c5635e0-278b-11ec-8803-0242ac1c0002\"] = google.colab.output.getActiveOutputArea();\n",
              "//# sourceURL=js_16f174bc05"
            ],
            "text/plain": [
              "<IPython.core.display.Javascript object>"
            ]
          },
          "metadata": {}
        },
        {
          "output_type": "display_data",
          "data": {
            "application/javascript": [
              "window[\"0c5691fc-278b-11ec-8803-0242ac1c0002\"] = document.querySelector(\"#id712-0-0\");\n",
              "//# sourceURL=js_4d91f26dd0"
            ],
            "text/plain": [
              "<IPython.core.display.Javascript object>"
            ]
          },
          "metadata": {}
        },
        {
          "output_type": "display_data",
          "data": {
            "application/javascript": [
              "window[\"0c56e698-278b-11ec-8803-0242ac1c0002\"] = google.colab.output.setActiveOutputArea(window[\"0c5691fc-278b-11ec-8803-0242ac1c0002\"]);\n",
              "//# sourceURL=js_051005dbeb"
            ],
            "text/plain": [
              "<IPython.core.display.Javascript object>"
            ]
          },
          "metadata": {}
        },
        {
          "output_type": "stream",
          "name": "stdout",
          "text": [
            "\n",
            "\n",
            "\n"
          ]
        },
        {
          "output_type": "display_data",
          "data": {
            "application/vnd.jupyter.widget-view+json": {
              "model_id": "d0510e58acea47539db4f088707a0d35",
              "version_minor": 0,
              "version_major": 2
            },
            "text/plain": [
              "Button(description='6', style=ButtonStyle())"
            ]
          },
          "metadata": {}
        },
        {
          "output_type": "display_data",
          "data": {
            "application/javascript": [
              "window[\"0c58d764-278b-11ec-8803-0242ac1c0002\"] = google.colab.output.setActiveOutputArea(window[\"0c5635e0-278b-11ec-8803-0242ac1c0002\"]);\n",
              "//# sourceURL=js_bd0b534405"
            ],
            "text/plain": [
              "<IPython.core.display.Javascript object>"
            ]
          },
          "metadata": {}
        },
        {
          "output_type": "display_data",
          "data": {
            "application/javascript": [
              "window[\"0c5bea9e-278b-11ec-8803-0242ac1c0002\"] = google.colab.output.getActiveOutputArea();\n",
              "//# sourceURL=js_b1f017b466"
            ],
            "text/plain": [
              "<IPython.core.display.Javascript object>"
            ]
          },
          "metadata": {}
        },
        {
          "output_type": "display_data",
          "data": {
            "application/javascript": [
              "window[\"0c5c3ada-278b-11ec-8803-0242ac1c0002\"] = document.querySelector(\"#id712-0-1\");\n",
              "//# sourceURL=js_7ea7928a85"
            ],
            "text/plain": [
              "<IPython.core.display.Javascript object>"
            ]
          },
          "metadata": {}
        },
        {
          "output_type": "display_data",
          "data": {
            "application/javascript": [
              "window[\"0c5c9c46-278b-11ec-8803-0242ac1c0002\"] = google.colab.output.setActiveOutputArea(window[\"0c5c3ada-278b-11ec-8803-0242ac1c0002\"]);\n",
              "//# sourceURL=js_73ea38fd5c"
            ],
            "text/plain": [
              "<IPython.core.display.Javascript object>"
            ]
          },
          "metadata": {}
        },
        {
          "output_type": "stream",
          "name": "stdout",
          "text": [
            "\n",
            "\n",
            "\n"
          ]
        },
        {
          "output_type": "display_data",
          "data": {
            "application/vnd.jupyter.widget-view+json": {
              "model_id": "72e528e0d18e4fcaa897e5b8b0cbc31f",
              "version_minor": 0,
              "version_major": 2
            },
            "text/plain": [
              "Button(description='7', style=ButtonStyle())"
            ]
          },
          "metadata": {}
        },
        {
          "output_type": "display_data",
          "data": {
            "application/javascript": [
              "window[\"0c60da7c-278b-11ec-8803-0242ac1c0002\"] = google.colab.output.setActiveOutputArea(window[\"0c5bea9e-278b-11ec-8803-0242ac1c0002\"]);\n",
              "//# sourceURL=js_10b71773f6"
            ],
            "text/plain": [
              "<IPython.core.display.Javascript object>"
            ]
          },
          "metadata": {}
        },
        {
          "output_type": "display_data",
          "data": {
            "application/javascript": [
              "window[\"0c64704c-278b-11ec-8803-0242ac1c0002\"] = google.colab.output.getActiveOutputArea();\n",
              "//# sourceURL=js_2c73ebcea3"
            ],
            "text/plain": [
              "<IPython.core.display.Javascript object>"
            ]
          },
          "metadata": {}
        },
        {
          "output_type": "display_data",
          "data": {
            "application/javascript": [
              "window[\"0c64f558-278b-11ec-8803-0242ac1c0002\"] = document.querySelector(\"#id712-0-2\");\n",
              "//# sourceURL=js_928b753d3f"
            ],
            "text/plain": [
              "<IPython.core.display.Javascript object>"
            ]
          },
          "metadata": {}
        },
        {
          "output_type": "display_data",
          "data": {
            "application/javascript": [
              "window[\"0c65a6ec-278b-11ec-8803-0242ac1c0002\"] = google.colab.output.setActiveOutputArea(window[\"0c64f558-278b-11ec-8803-0242ac1c0002\"]);\n",
              "//# sourceURL=js_f4919ac393"
            ],
            "text/plain": [
              "<IPython.core.display.Javascript object>"
            ]
          },
          "metadata": {}
        },
        {
          "output_type": "stream",
          "name": "stdout",
          "text": [
            "\n",
            "\n",
            "\n"
          ]
        },
        {
          "output_type": "display_data",
          "data": {
            "application/vnd.jupyter.widget-view+json": {
              "model_id": "7486048e195d40e6b380cd33f162fc14",
              "version_minor": 0,
              "version_major": 2
            },
            "text/plain": [
              "Button(description='8', style=ButtonStyle())"
            ]
          },
          "metadata": {}
        },
        {
          "output_type": "display_data",
          "data": {
            "application/javascript": [
              "window[\"0c6a8126-278b-11ec-8803-0242ac1c0002\"] = google.colab.output.setActiveOutputArea(window[\"0c64704c-278b-11ec-8803-0242ac1c0002\"]);\n",
              "//# sourceURL=js_a531399bdf"
            ],
            "text/plain": [
              "<IPython.core.display.Javascript object>"
            ]
          },
          "metadata": {}
        }
      ]
    }
  ]
}